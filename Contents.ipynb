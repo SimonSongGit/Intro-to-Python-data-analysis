{
 "cells": [
  {
   "cell_type": "markdown",
   "metadata": {},
   "source": [
    "# contents\n",
    "\n",
    "## Chapter 1. Python fundamentals\n",
    "### 1.1 Python installation on Ubuntu (pyenv and venv)\n",
    "### 1.2 Libraries installation\n",
    "### 1.3 Python fundamentals\n",
    "### 1.4 Python libraries overview\n",
    "\n",
    "<br>\n",
    "<br>\n",
    "\n",
    "## Chapter 2. Data analysis libraries\n",
    "### 2.1 numpy tutorial\n",
    "### 2.2 pandas tutorial\n",
    "### 2.3 visulization tutorial (matplotlib, seaborn and folium)\n",
    "\n",
    "<br>\n",
    "<br>\n",
    "\n",
    "## Chapter 3. \n"
   ]
  }
 ],
 "metadata": {
  "kernelspec": {
   "display_name": "Python 3",
   "language": "python",
   "name": "python3"
  },
  "language_info": {
   "codemirror_mode": {
    "name": "ipython",
    "version": 3
   },
   "file_extension": ".py",
   "mimetype": "text/x-python",
   "name": "python",
   "nbconvert_exporter": "python",
   "pygments_lexer": "ipython3",
   "version": "3.6.5"
  }
 },
 "nbformat": 4,
 "nbformat_minor": 2
}
