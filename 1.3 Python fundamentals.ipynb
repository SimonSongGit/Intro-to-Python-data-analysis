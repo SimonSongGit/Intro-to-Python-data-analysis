{
 "cells": [
  {
   "cell_type": "markdown",
   "metadata": {},
   "source": [
    "### contents <br>\n",
    "\n",
    "\n",
    "1. data structures\n",
    "\n",
    "2. logic flow and conditional statements\n",
    "\n",
    "3. errors and exception handling\n",
    "\n",
    "4. functions and classes\n",
    "\n",
    "5. built-in functions and tricks\n",
    "\n",
    "6. modules\n"
   ]
  },
  {
   "cell_type": "markdown",
   "metadata": {},
   "source": [
    "### 1. data structures\n",
    "\n",
    "1. python has a lot of data structures, each strucutre is an object with many methods:\n",
    "    - numeric, string, list, tuple, set, dictionary, file object, etc.\n",
    "        \n",
    "2. examples:\n",
    "    - numeric: a,b=divmod(33,5) >>a=6,b=3\n",
    "    - string:  var = 'f', b = f\"this is a {var} string\" >> b = \"this is a f string\"\n",
    "    - list: a = [1,2,3], a.append(7), a.insert(2,5)\n",
    "    - tuple: a = (1,2,2,3), a.count(2), a.index(3)\n",
    "    - set: a = {1,3,4},b = {1,6,9}, a&b, a|b, a^b, a-b, a.update([1,5]), a.pop()\n",
    "    - dictionary: b = ['this','dog'], d = dict(enumerate(b)), d.popitem(), d.pop(key), d.get(key, default_output), d.setdefault(key, set_default_input)\n",
    "    - file object: with open(file_path,'wb') as f: f.read(), f.write(\"write test\")"
   ]
  },
  {
   "cell_type": "markdown",
   "metadata": {},
   "source": [
    "### 2.logic flow and conditional statements\n",
    "\n",
    "1. loops:\n",
    "    - for loop with else statement: for i in range(10): print(i) else: print('ended!')\n",
    "    - while loop with else statement: i=1, while i<10:i += 1 else: print(\"whatever!\")\n",
    "    - break and continue in loops: break means break the loop, continue means jump to the next loop!\n",
    "\n",
    "2. if statement:\n",
    "    - if True: print('Hello')\n",
    "    - if elif else\n",
    "    \n"
   ]
  },
  {
   "cell_type": "code",
   "execution_count": 1,
   "metadata": {},
   "outputs": [
    {
     "name": "stdout",
     "output_type": "stream",
     "text": [
      "type error with addition!\n",
      "whatever!\n"
     ]
    }
   ],
   "source": [
    "### 3. errors and exception handling\n",
    "\n",
    "\n",
    "try:               #(try execute something)\n",
    "    something\n",
    "except NameError:  #(if there is an error, what to do)\n",
    "    do something\n",
    "else:              #(if no error what to do)\n",
    "    do something\n",
    "finally:           #(will execute regardless if there is an error or not)\n",
    "    do something \n",
    "    \n",
    "\n",
    "1.example:\n",
    "try:\n",
    "    3+'2'\n",
    "except:\n",
    "    print(\"type error with addition!\")\n",
    "else:\n",
    "    print(\"cheers!\")\n",
    "finally:\n",
    "    print(\"whatever!\")"
   ]
  },
  {
   "cell_type": "markdown",
   "metadata": {},
   "source": [
    "### 4. functions\n",
    "\n",
    "1. functions:\n",
    "    - define a function: define a function with *args (args here is a tuple) and **kwargs (kwargs here is a dictionary)\n",
    "    - rules: *arg must be placed before the **kwargs\n",
    "    - call a function: use * to unpack iterable and use ** to unpack dictionary\n",
    "        \n",
    "2. example for * and ** unpacking: <br>\n",
    "    1. x,*y = [1,3,4,5] >>x=1,y=[3,4,5]  <br>\n",
    "    2. merged = [*y,*y] >>merged=[3,4,5,3,4,5] #remember that * must work on iterable <br>\n",
    "    3. d1 = {1:'gg',2:'dd'}, d2 = {3:'dog',4:'cat'}, c = {**d1,**d2} #merge two dictionaries together <br>\n",
    "    4. zip(*[[1,2,3],[4,3,2]]) #will unpack as (1,2,3) and (4,3,2) and then zip these two together to be an iterator(1,4),(2,3),(3,2)! <br>\n",
    "\n",
    "\n",
    "```\n",
    "def add(*args):\n",
    "    res = 0\n",
    "    for val in args:\n",
    "        res += val\n",
    "    return res\n",
    "\n",
    "add(1,2,3,4,5) <<15\n",
    "\n",
    "def add_kw(**kwargs):\n",
    "    res = 0\n",
    "    for val in kwargs.values():\n",
    "        res += val\n",
    "    return res\n",
    "\n",
    "a = {'a':1,'b':2,'c':3,'d':4,'e':5}\n",
    "add_kw(**a)  <<15\n",
    "```\n",
    "\n",
    "3. python function annotation <br>\n",
    "\n",
    "```\n",
    "def funct(a:'spam',b:(1,10),c:float=2.375)->int:\n",
    "    if b==5:\n",
    "        return b*2\n",
    "    elif c>b:\n",
    "        return c\n",
    "    else:\n",
    "        return len(a)\n",
    "    \n",
    "funct('orange',8,3.8) >>6 \n",
    "```\n"
   ]
  },
  {
   "cell_type": "markdown",
   "metadata": {},
   "source": [
    "### 4. classes (classmethod, staticmethod)\n",
    "\n",
    "```\n",
    "class foo:\n",
    "    a = 3.2\n",
    "    def __init__(self,ans):\n",
    "        self.key = ans\n",
    "    \n",
    "    def add(self):\n",
    "        return self.key+self.a\n",
    "    \n",
    "    @classmethod\n",
    "    def fly(cls,ans1):\n",
    "        return cls(ans1).a,cls(ans1).key\n",
    "    \n",
    "    @staticmethod\n",
    "    def sub(s1):\n",
    "        return [*s1]\n",
    "    \n",
    "c = foo(32)\n",
    "c.fly(12)\n",
    "c.sub(\"thislong\")\n",
    "foo.sub(\"thislong\") #@staticmethod is just a regular function which can be directly called by the class besides of instances\n",
    "```\n",
    "\n",
    "references: <br>\n",
    "[1] https://stackoverflow.com/questions/12179271/meaning-of-classmethod-and-staticmethod-for-beginner"
   ]
  }
 ],
 "metadata": {
  "kernelspec": {
   "display_name": "Python 3",
   "language": "python",
   "name": "python3"
  },
  "language_info": {
   "codemirror_mode": {
    "name": "ipython",
    "version": 3
   },
   "file_extension": ".py",
   "mimetype": "text/x-python",
   "name": "python",
   "nbconvert_exporter": "python",
   "pygments_lexer": "ipython3",
   "version": "3.6.5"
  }
 },
 "nbformat": 4,
 "nbformat_minor": 2
}
