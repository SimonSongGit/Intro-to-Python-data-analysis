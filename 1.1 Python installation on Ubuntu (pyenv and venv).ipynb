{
 "cells": [
  {
   "cell_type": "markdown",
   "metadata": {},
   "source": [
    "### 1.install python on Ubuntu\n",
    "\n",
    "<br>\n",
    "\n",
    "\\\\$sudo apt install python3 (latest version) <br>\n",
    "\\\\$sudo apt install python3.5 (specific version) <br>"
   ]
  },
  {
   "cell_type": "markdown",
   "metadata": {},
   "source": [
    "### 2.run python<br>\n",
    "\n",
    "\\\\$python3"
   ]
  },
  {
   "cell_type": "markdown",
   "metadata": {},
   "source": [
    "### 3.install libraries<br>\n",
    "\n",
    "\n",
    "\\\\$Python3 -m pip install package_name"
   ]
  },
  {
   "cell_type": "markdown",
   "metadata": {},
   "source": [
    "### 4.the necessity of virtual environment: \n",
    "when you want to have new version of some libraries but you have old version libraries running for your previous projects. You may want to keep the old version library, in the meantime, you want to have another new version installed. This is when virtual environment kicks in. Python module 'venv' allows you to control all the different versions of your libraries! <br>\n",
    "\n",
    "\n",
    "\n",
    "\n",
    "### setup virtual environment for libraries control\n",
    "1. check your global python3 libraries:\n",
    "    - \\\\$python3 -m pip list\n",
    "    - alternatively, you can use: \\\\$pip3 list\n",
    "\n",
    "2. install python3 libraries in your global environment:\n",
    "    - \\\\$ pip3 install library_name\n",
    "    - \\\\$ python3 -m pip install library_name\n",
    "\n",
    "3. install venv module for each Python versions you have on Ubuntu:\n",
    "    - if you only have one Python version:\n",
    "        - find your python version by: \\\\$python3 -V\n",
    "        - \\\\$sudo apt install python3.8-venv (if yours is version 3.8)\n",
    "        \n",
    "    - if you have multiple version of Python:\n",
    "        - install venv for each of the python versions, using: \\\\$sudo apt install (yourPythonverison)-venv\n",
    "        - Note: module 'venv' is suitable for python 3.3+, if you have versions older or python 2, the library name will be different\n",
    "\n",
    "4. create virtual environment for your libraries:\n",
    "    - the best way is to create venv folder in your project folders so it goes with your projects <br>\n",
    "    - create a project folder:\\\\$mkdir yourProjectFolders <br>\n",
    "    - create the environment: \\\\$python3 -m venv yourProjectFolders/venv    <br>\n",
    "    - activate the environment: \\\\$source yourProjectFolders/venv/bin/activate <br>\n",
    "    - check if activated: which python  <br>\n",
    "    - check which library installed in this virtual environment: \\\\$pip list <br>\n",
    "    - install library into current venv folder: \\\\$pip install requests(or whichever library you want to) <br>\n",
    "    - check again you will see if module 'requests' has been installed: \\\\$pip list <br>\n",
    "    \n",
    "    \n",
    "5. export your library list to migrate to other environments:\n",
    "    - export the specification into a txt file to current directory: \\\\$pip freeze > requirements.txt <br>\n",
    "        - check the requirements.txt: \\\\$cat requirements.txt <br>\n",
    "    - install library in virtual environment using 'requirements.txt'<sup>[1]</sup>:\n",
    "        - go to the directory where 'requirements.txt' located, then active the virtual environment <br>\n",
    "        - finally, do: \\\\$pip install -r requirements.txt <br>\n",
    "    - create a virtual environment to access python global system libraries:\n",
    "        - make sure no other virtual venv folder here <br>\n",
    "        - in the project folder which you want to access the global libraries, do: \\\\$python3 -m venv yourProjectFolders/venv --system-site-packages <br>\n",
    "        - then, activate it: \\\\$source yourProjectFolders/venv/bin/activate <br>\n",
    "        - Note: the additional packages you installed in this venv folder will not affect or added to the global libraries <br>\n",
    "            - you can check your installed libraries in this virtual environment by: \\\\$pip list --local <br>\n",
    "\n",
    "6. deactivate the virtual environment after each usage:<br>\n",
    "    - \\\\$deactivate <br>\n",
    "    - after deactivate, check which python to see if sucessfully deactivate: \\\\$which python <br>\n",
    "    - you can activate whenever you want: \\\\$source yourProjectFolders/venv/bin/activate <br>\n",
    "\n",
    "7. delete the virtual environment:\n",
    "    - \\\\$rm -rf yourProjectFolders/venv\n",
    "    \n",
    "    \n",
    "references: <br>\n",
    "[1] https://stackoverflow.com/questions/7225900/how-to-install-packages-using-pip-according-to-the-requirements-txt-file-from-a"
   ]
  },
  {
   "cell_type": "markdown",
   "metadata": {},
   "source": [
    "### pyenv for management of multiple python versions <br>\n",
    "if you want to have multiple python versions on your computer, the best way is to use pyenv\n",
    "\n",
    "\n",
    "1. installation of pyenv on Ubuntu: <br>\n",
    "    - download git if not on your computer: \\\\$sudo apt install git<br>\n",
    "    - implement the following: \\\\$ echo ```'export PYENV_ROOT=\"$HOME/.pyenv\"' >> ~/.bashrc```<br>\n",
    "    - implement this: \\\\$ echo ```'export PATH=\"$PYENV_ROOT/bin:$PATH\"' >> ~/.bashrc```<br>  \n",
    "    - add pyenv init to your shell: \\\\echo -e ```'if command -v pyenv 1>/dev/null 2>&1; then\\n  eval \"$(pyenv init -)\"\\nfi' >> ~/.bashrc```<br>\n",
    "    - install dependencies<sup>[1]</sup>: sudo apt-get install -y build-essential libssl-dev zlib1g-dev libbz2-dev \\ libreadline-dev libsqlite3-dev wget curl llvm libncurses5-dev libncursesw5-dev \\ xz-utils tk-dev libffi-dev liblzma-dev python-openssl git <br>\n",
    "    - clone the git repository: \\\\$git clone https://github.com/pyenv/pyenv.git ~/.pyenv<br>\n",
    "    - Restart your shell: \\\\$exec \"$SHELL\" <br>\n",
    "    - install the python version you want: \\\\$pyenv install 2.7.8\n",
    "\n",
    "\n",
    "2. check if pyenv installed successfully:\n",
    "    - use: \\\\$pyenv versions <br>\n",
    "    - change python version on current directory: \\\\$pyenv local 2.7.8 <br>\n",
    "    - set python version globally: \\\\$pyenv global 3.6.5 <br>\n",
    "    - for details regarding the commands<sup>[2]</sup>. <br>\n",
    "    \n",
    "    \n",
    "    \n",
    "    \n",
    "references: <br>\n",
    "[1] https://github.com/pyenv/pyenv/wiki/Common-build-problems <br>\n",
    "[2] https://github.com/pyenv/pyenv/blob/master/COMMANDS.md#pyenv-global"
   ]
  },
  {
   "cell_type": "markdown",
   "metadata": {},
   "source": [
    "### use pyenv and venv for management of python version and libraries\n",
    "\n",
    "1. once you setup pyenv, if you have python version 3.3+, you can use venv for that version\n",
    "\n",
    "2. steps for venv control:\n",
    "    1. create a project folder in current directory(say: Documents): \\\\$ mkdir projects_venv <br>\n",
    "    2. localized your python version: \\\\$pyenv local 3.6.5 <br>\n",
    "    3. initiate venv in your project folder: \\\\$python3.6 -m venv projects_venv/venv <br>\n",
    "    4. activate your venv environment: \\\\$source projects_venv/venv/bin/activate   <br>\n",
    "    5. you can check if you activate or not: \\\\$which python (should show ~./venv/bin/python) <br>"
   ]
  }
 ],
 "metadata": {
  "kernelspec": {
   "display_name": "Python 3",
   "language": "python",
   "name": "python3"
  },
  "language_info": {
   "codemirror_mode": {
    "name": "ipython",
    "version": 3
   },
   "file_extension": ".py",
   "mimetype": "text/x-python",
   "name": "python",
   "nbconvert_exporter": "python",
   "pygments_lexer": "ipython3",
   "version": "3.6.5"
  }
 },
 "nbformat": 4,
 "nbformat_minor": 2
}
