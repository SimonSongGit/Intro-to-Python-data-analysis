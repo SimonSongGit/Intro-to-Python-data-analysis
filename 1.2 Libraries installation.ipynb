{
 "cells": [
  {
   "cell_type": "markdown",
   "metadata": {},
   "source": [
    "### install common libraries\n",
    "\n",
    "1. install on python global system libraries:\n",
    "    - numpy: \\\\$pip3 install numpy <br>\n",
    "    - pandas: \\\\$pip3 install pandas <br>\n",
    "    - matplotlib: \\\\$pip3 install pandas <br>\n",
    "    - seaborn: \\\\$pip3 install seaborn <br>\n",
    "    - scikit-learn: \\\\$pip3 install scikit-learn <br>\n",
    "        \n",
    "        \n",
    "\n",
    "2. install on python venv:\n",
    "    - first, create venv and activate as mentioned in chapter 1.1 <br>\n",
    "    - then, use: \\\\$pip install numpy/pandas... <br>\n",
    "    - check if successfully installed: \\\\$pip list <br>"
   ]
  }
 ],
 "metadata": {
  "kernelspec": {
   "display_name": "Python 3",
   "language": "python",
   "name": "python3"
  },
  "language_info": {
   "codemirror_mode": {
    "name": "ipython",
    "version": 3
   },
   "file_extension": ".py",
   "mimetype": "text/x-python",
   "name": "python",
   "nbconvert_exporter": "python",
   "pygments_lexer": "ipython3",
   "version": "3.6.5"
  }
 },
 "nbformat": 4,
 "nbformat_minor": 2
}
